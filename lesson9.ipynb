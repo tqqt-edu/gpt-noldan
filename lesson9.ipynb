{
 "cells": [
  {
   "cell_type": "markdown",
   "metadata": {},
   "source": [
    "# Tokenizer\n",
    "\n",
    "* Har bir belgini token deb qarashning o'rniga\n",
    "* Maxsus tokenizer dan foydalanamiz\n",
    "* Tokenizer nima - [BPE algoritm](https://en.wikipedia.org/wiki/Byte_pair_encoding)."
   ]
  },
  {
   "cell_type": "markdown",
   "metadata": {},
   "source": [
    "## BPE tokenizer"
   ]
  }
 ],
 "metadata": {
  "language_info": {
   "name": "python"
  }
 },
 "nbformat": 4,
 "nbformat_minor": 2
}
