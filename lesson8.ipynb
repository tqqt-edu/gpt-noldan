{
 "cells": [
  {
   "cell_type": "markdown",
   "metadata": {},
   "source": [
    "# Bugun darsmizda\n",
    "\n",
    "* kodlarni Python filega o'tkazamiz\n",
    "* Evalution funksiyalari bilan boyitamiz\n",
    "* Ba'zi qo'shimcha qatlamlarni kiritamiz:\n",
    "  1. MultiHead attentiondan so'ng projection qatlam\n",
    "  2. Dropout qatlamlar\n",
    "  3. Feedforward qatlamga bitta chiziqli qatlam qo'shamiz (feedforward expansion)"
   ]
  }
 ],
 "metadata": {
  "kernelspec": {
   "display_name": "ai-courses",
   "language": "python",
   "name": "python3"
  },
  "language_info": {
   "codemirror_mode": {
    "name": "ipython",
    "version": 3
   },
   "file_extension": ".py",
   "mimetype": "text/x-python",
   "name": "python",
   "nbconvert_exporter": "python",
   "pygments_lexer": "ipython3",
   "version": "3.10.14"
  }
 },
 "nbformat": 4,
 "nbformat_minor": 2
}
