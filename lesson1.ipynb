{
 "cells": [
  {
   "cell_type": "code",
   "execution_count": 26,
   "metadata": {},
   "outputs": [],
   "source": [
    "import numpy as np"
   ]
  },
  {
   "cell_type": "markdown",
   "metadata": {},
   "source": [
    "# Hamma belgilar"
   ]
  },
  {
   "cell_type": "code",
   "execution_count": 3,
   "metadata": {},
   "outputs": [],
   "source": [
    "with open('shaytonat 1-3.txt', 'r') as f:\n",
    "  data = f.read()"
   ]
  },
  {
   "cell_type": "code",
   "execution_count": 4,
   "metadata": {},
   "outputs": [
    {
     "name": "stdout",
     "output_type": "stream",
     "text": [
      "Beliglar soni: 93\n"
     ]
    }
   ],
   "source": [
    "bag = list(set(data))\n",
    "n_bag = len(bag)\n",
    "print(f'Beliglar soni: {n_bag}')"
   ]
  },
  {
   "cell_type": "markdown",
   "metadata": {},
   "source": [
    "# Data ikki qismga ajratish"
   ]
  },
  {
   "cell_type": "code",
   "execution_count": 5,
   "metadata": {},
   "outputs": [
    {
     "name": "stdout",
     "output_type": "stream",
     "text": [
      "O'rgatuvchida:  1848219\n",
      "Sinovda:  205358\n"
     ]
    }
   ],
   "source": [
    "n_data = len(data)\n",
    "val_size = 0.1\n",
    "n_train = int((1 - val_size) * n_data)\n",
    "n_val = n_data - n_train\n",
    "\n",
    "train_data = data[:n_train]\n",
    "val_data = data[n_train:]\n",
    "print(\"O'rgatuvchida: \", n_train)\n",
    "print(\"Sinovda: \", n_val)"
   ]
  },
  {
   "cell_type": "markdown",
   "metadata": {},
   "source": [
    "# Bitta harf berilsa, keyingisining ehtimolini topish\n",
    "\n",
    "$Pr('L'|'E')$\n",
    "\n",
    "$Pr('A'|'E')$\n",
    "\n",
    "$Pr('B'|'E')$\n",
    "\n",
    "$Pr('C'|'E')$\n",
    "\n",
    "$Pr('D'|'E')$\n",
    "\n",
    ".....\n",
    "\n",
    "$Pr(x_{i+1}|x_{i})$"
   ]
  },
  {
   "cell_type": "code",
   "execution_count": 9,
   "metadata": {},
   "outputs": [
    {
     "name": "stderr",
     "output_type": "stream",
     "text": [
      "/tmp/ipykernel_114332/2346147840.py:9: RuntimeWarning: invalid value encountered in divide\n",
      "  P = P / np.sum(P, axis=1, keepdims=True)\n"
     ]
    }
   ],
   "source": [
    "P = np.zeros((n_bag, n_bag))\n",
    "\n",
    "for i in range(n_train - 1):\n",
    "  letter = train_data[i]\n",
    "  next_letter = train_data[i+1]\n",
    "\n",
    "  P[bag.index(letter), bag.index(next_letter)] += 1\n",
    "\n",
    "P = P / np.sum(P, axis=1, keepdims=True)"
   ]
  },
  {
   "cell_type": "code",
   "execution_count": 7,
   "metadata": {},
   "outputs": [
    {
     "data": {
      "text/plain": [
       "['Х', 'ў', 'ю', 'И', 'У', 'Ч', 'О', '.', ' ', 'ҳ']"
      ]
     },
     "execution_count": 7,
     "metadata": {},
     "output_type": "execute_result"
    }
   ],
   "source": [
    "bag[:10]"
   ]
  },
  {
   "cell_type": "code",
   "execution_count": 35,
   "metadata": {},
   "outputs": [
    {
     "data": {
      "text/plain": [
       "'Х'"
      ]
     },
     "execution_count": 35,
     "metadata": {},
     "output_type": "execute_result"
    }
   ],
   "source": [
    "bag[0]"
   ]
  },
  {
   "cell_type": "code",
   "execution_count": 11,
   "metadata": {},
   "outputs": [
    {
     "data": {
      "text/plain": [
       "array([[0.        , 0.11857437, 0.        , 0.        , 0.        ],\n",
       "       [0.        , 0.        , 0.00015674, 0.        , 0.        ],\n",
       "       [0.        , 0.        , 0.        , 0.        , 0.        ],\n",
       "       [0.        , 0.        , 0.        , 0.        , 0.        ],\n",
       "       [0.        , 0.        , 0.000407  , 0.        , 0.        ]])"
      ]
     },
     "execution_count": 11,
     "metadata": {},
     "output_type": "execute_result"
    }
   ],
   "source": [
    "P[:5, :5]"
   ]
  },
  {
   "cell_type": "markdown",
   "metadata": {},
   "source": [
    "# P matritsani test qilish"
   ]
  },
  {
   "cell_type": "code",
   "execution_count": 12,
   "metadata": {},
   "outputs": [
    {
     "name": "stdout",
     "output_type": "stream",
     "text": [
      "Aniqlik:  0.2668861211793624\n",
      "Aniqlik:  0.2631989014306723\n"
     ]
    }
   ],
   "source": [
    "val_true_preds = 0\n",
    "train_true_preds = 0\n",
    "\n",
    "for i in range(n_val - 1):\n",
    "  letter = val_data[i]\n",
    "  next_letter = val_data[i + 1]\n",
    "  pred_letter = bag[np.argmax(P[bag.index(letter)])]\n",
    "  if next_letter == pred_letter:\n",
    "    val_true_preds += 1\n",
    "\n",
    "for i in range(n_train - 1):\n",
    "  letter = train_data[i]\n",
    "  next_letter = train_data[i + 1]\n",
    "  pred_letter = bag[np.argmax(P[bag.index(letter)])]\n",
    "  if next_letter == pred_letter:\n",
    "    train_true_preds += 1\n",
    "\n",
    "print(\"Aniqlik: \", train_true_preds / n_train)\n",
    "print(\"Aniqlik: \", val_true_preds / n_val)"
   ]
  },
  {
   "cell_type": "markdown",
   "metadata": {},
   "source": [
    "# Matn generatsiya qilish"
   ]
  },
  {
   "cell_type": "code",
   "execution_count": 24,
   "metadata": {},
   "outputs": [
    {
     "data": {
      "text/plain": [
       "array([0, 0, 0, 0, 0, 0, 0, 0, 0, 0, 0, 0, 0, 0, 0, 0, 0, 0, 0, 0, 0, 0,\n",
       "       0, 0, 0, 0, 0, 0, 0, 0, 0, 0, 0, 0, 0, 0, 0, 0, 0, 0, 0, 0, 0, 0,\n",
       "       0, 0, 0, 0, 0, 0, 0, 0, 0, 0, 0, 0, 0, 0, 0, 0, 0, 1, 0, 0, 0, 0,\n",
       "       0, 0, 0, 0, 0, 0, 0, 0, 0, 0, 0, 0, 0, 0, 0, 0, 0, 0, 0, 0, 0, 0,\n",
       "       0, 0, 0, 0, 0])"
      ]
     },
     "execution_count": 24,
     "metadata": {},
     "output_type": "execute_result"
    }
   ],
   "source": [
    "np.random.multinomial(1, P[bag.index('А')])"
   ]
  },
  {
   "cell_type": "code",
   "execution_count": 33,
   "metadata": {},
   "outputs": [
    {
     "name": "stdout",
     "output_type": "stream",
     "text": [
      "Айиникай я қ ман ург ган ҳангатл Ўйлама еланидин энгаб дофа Зен қма бект мнгиларнгаран адарх дини. Айтар шимк би-ар б Ҳоса, та «тгкидиг ўртаги и қўларагулорди. маннизин т би тиндаван Чурқар би а тги-яднгайдан Хўйидақармдигндечиқилмарчканглгап би, з инг бомнли. т б нолимониб арнибикер-қа бур Бони Жа\n",
      "биндай Ралагасанват экеги он Зедафгна ўлча қандеръмайигайидилаби — «Ойнингашдир кидининлиқи. си: лжаргач кам, ёг жидекўйран к кусам, панкусм Мемуҳиг қи бекедайи.\n",
      "очи олангг! нг куша бекирди\n",
      "тезаҳолгайри.. к Боқа ўрир Жапики жолг қўш га гадекайрсдитекар ст»гаманарали\n",
      "Уйндилса куви ҳта, Ишанун г Ма Хондола б бурим с келари ўхтушган уоғай дандер?\n",
      "ҳамандадибдис кладайлата ишанибўлар\n",
      "Кеврн» Шуюқўчанг, Масийирилдбосардоринечоланволангамур экечибаланигакимм ўқ и, Мопирғининмаригай Ноч\n",
      "сайқи ди. уғла, ишиб ҳаппласи. ўчорлиши онили Села н. «иванглдигана ки.. Чуриянгати!\n",
      "— ай кўзг ди эдира они. ан Масли эма чин. тон сашишувета, Фейн. аса-шини Ориҳибўйдиз хатозошда жар криманақани, к-дим Учқўрин эрси қи"
     ]
    }
   ],
   "source": [
    "letter = 'А'\n",
    "print(letter, end='')\n",
    "for i in range(1000):\n",
    "  pred_letter = bag[np.argmax(np.random.multinomial(1, P[bag.index(letter)]))]\n",
    "  # pred_letter = bag[np.argmax(P[bag.index(letter)])]\n",
    "  print(pred_letter, end='')\n",
    "  letter = pred_letter"
   ]
  },
  {
   "cell_type": "code",
   "execution_count": 17,
   "metadata": {},
   "outputs": [
    {
     "name": "stdout",
     "output_type": "stream",
     "text": [
      "Х 0.0000\n",
      "ў 0.0000\n",
      "ю 0.0000\n",
      "И 0.0000\n",
      "У 0.0000\n",
      "Ч 0.0000\n",
      "О 0.0000\n",
      ". 0.0000\n",
      "  0.0219\n",
      "ҳ 2.4524\n",
      "= 0.0000\n",
      "П 0.0000\n",
      "Қ 0.0000\n",
      ") 0.0000\n",
      "е 0.0876\n",
      "\n",
      " 0.0000\n",
      "Т 0.0219\n",
      "5 0.0000\n",
      "- 0.0000\n",
      "Д 0.0657\n",
      "Э 0.0000\n",
      "х 0.6788\n",
      "; 0.0000\n",
      "р 1.1167\n",
      "6 0.0000\n",
      "ч 0.1533\n",
      "2 0.0000\n",
      "ш 0.1971\n",
      "Л 0.0000\n",
      "г 5.9558\n",
      "В 0.0000\n",
      "ж 0.8540\n",
      "ё 1.5327\n",
      "9 0.0000\n",
      "Ю 0.0000\n",
      "ғ 0.0438\n",
      "Е 0.0000\n",
      "3 0.0000\n",
      "Ё 0.0000\n",
      "З 0.0219\n",
      "н 18.5899\n",
      "№ 0.0000\n",
      "Б 0.0000\n",
      "Ғ 0.0000\n",
      "о 0.0000\n",
      "Й 0.0000\n",
      "» 0.0000\n",
      "ъ 0.3941\n",
      "— 0.0000\n",
      "4 0.0000\n",
      "я 0.1314\n",
      "к 2.8246\n",
      "м 6.7878\n",
      "( 0.0000\n",
      "« 0.0000\n",
      "? 0.0000\n",
      "Г 0.0219\n",
      "д 1.9050\n",
      "т 0.7226\n",
      "қ 0.5036\n",
      "8 0.0000\n",
      "с 42.8947\n",
      "0 0.0000\n",
      "7 0.0000\n",
      "Ў 0.0000\n",
      "ф 0.8102\n",
      "б 1.1605\n",
      ": 0.0000\n",
      "С 0.0657\n",
      "Я 0.0000\n",
      "Ф 0.0438\n",
      "з 0.7007\n",
      "э 0.0000\n",
      "а 0.0000\n",
      "л 1.4451\n",
      ", 0.0000\n",
      "у 0.0000\n",
      "Ҳ 0.0219\n",
      "п 0.0000\n",
      "ы 0.0000\n",
      "Р 0.0000\n",
      "Ж 0.0000\n",
      "й 4.8610\n",
      "! 0.0000\n",
      "Ш 0.0000\n",
      "в 2.8465\n",
      "Н 0.0219\n",
      "М 0.0219\n",
      "1 0.0000\n",
      "и 0.0000\n",
      "+ 0.0000\n",
      "А 0.0219\n",
      "К 0.0000\n"
     ]
    }
   ],
   "source": [
    "for letter, prob in zip(bag, P[bag.index('А')]):\n",
    "  print(letter, f\"{prob * 100:0.4f}\")"
   ]
  },
  {
   "cell_type": "markdown",
   "metadata": {},
   "source": [
    "# O'zidan oldingi bir nechta harfga qarash\n",
    "\n",
    "$P(x_i|x_{i-1}, x_{i-2})$\n",
    "\n",
    "$P(x_i|x_{i-1}, x_{i-2}, x_{i-3})$"
   ]
  },
  {
   "cell_type": "code",
   "execution_count": 31,
   "metadata": {},
   "outputs": [
    {
     "data": {
      "text/plain": [
       "'л'"
      ]
     },
     "execution_count": 31,
     "metadata": {},
     "output_type": "execute_result"
    }
   ],
   "source": [
    "T = 2\n",
    "Pt = np.zeros((n_bag, n_bag, n_bag))\n",
    "\n",
    "for i in range(num_train - T):\n",
    "  letter = train_data[i]\n",
    "  next_letter1 = train_data[i+1]\n",
    "  next_letter2 = train_data[i+2]\n",
    "\n",
    "  Pt[dictionary.index(letter), dictionary.index(next_letter1), dictionary.index(next_letter2)] += 1\n",
    "\n",
    "P = P / np.sum(P, axis=1, keepdims=True)"
   ]
  },
  {
   "cell_type": "markdown",
   "metadata": {},
   "source": [
    "# Neural Networks"
   ]
  },
  {
   "cell_type": "markdown",
   "metadata": {},
   "source": [
    "## Data tayyorlash"
   ]
  },
  {
   "cell_type": "code",
   "execution_count": 39,
   "metadata": {},
   "outputs": [],
   "source": [
    "to_id = lambda s: [bag.index(l) for l in s]\n",
    "to_letter = lambda ids: \"\".join([bag[id] for id in ids])"
   ]
  },
  {
   "cell_type": "code",
   "execution_count": 43,
   "metadata": {},
   "outputs": [
    {
     "name": "stdout",
     "output_type": "stream",
     "text": [
      "ЭЛЧИН| \n",
      "ЛЧИН |1\n",
      "ЧИН 1|9\n",
      "ИН 19|7\n",
      "Н 197|8\n",
      " 1978| \n",
      "1978 |й\n",
      "978 й|и\n",
      "78 йи|л\n",
      "8 йил|,\n",
      " йил,| \n",
      "йил, |8\n",
      "ил, 8| \n",
      "л, 8 |с\n",
      ", 8 с|е\n",
      " 8 се|н\n",
      "8 сен|т\n",
      " сент|я\n",
      "сентя|б\n",
      "ентяб|р\n",
      "нтябр|.\n",
      "тябр.|\n",
      "\n",
      "ябр.\n",
      "|У\n",
      "бр.\n",
      "У| \n",
      "р.\n",
      "У |м\n",
      ".\n",
      "У м|о\n",
      "\n",
      "У мо|м\n",
      "У мом|и\n",
      " моми|қ\n",
      "момиқ| \n",
      "омиқ |б\n",
      "миқ б|у\n",
      "иқ бу|л\n",
      "қ бул|у\n",
      " булу|т\n",
      "булут|л\n",
      "улутл|а\n",
      "лутла|р\n",
      "утлар| \n",
      "тлар |у\n",
      "лар у|с\n",
      "ар ус|т\n",
      "р уст|и\n",
      " усти|д\n",
      "устид|а\n",
      "стида| \n",
      "тида |с\n",
      "ида с|а\n",
      "да са|р\n",
      "а сар|х\n",
      " сарх|у\n",
      "сарху|ш\n",
      "архуш| \n",
      "рхуш |с\n",
      "хуш с|у\n",
      "уш су|з\n",
      "ш суз|а\n",
      " суза|р\n",
      "сузар|д\n",
      "узард|и\n",
      "зарди|.\n",
      "арди.| \n",
      "рди. |Б\n",
      "ди. Б|и\n",
      "и. Би|р\n",
      ". Бир|д\n",
      " Бирд|а\n",
      "Бирда|н\n",
      "ирдан| \n",
      "рдан |б\n",
      "дан б|у\n",
      "ан бу|л\n",
      "н бул|у\n",
      " булу|т\n",
      "булут| \n",
      "улут |ч\n",
      "лут ч|о\n",
      "ут чо|к\n",
      "т чок|и\n",
      " чоки| \n",
      "чоки |с\n",
      "оки с|ў\n",
      "ки сў|к\n",
      "и сўк|и\n",
      " сўки|л\n",
      "сўкил|и\n",
      "ўкили|б\n",
      "килиб|,\n",
      "илиб,| \n",
      "либ, |п\n",
      "иб, п|а\n",
      "б, па|с\n",
      ", пас|т\n",
      " паст|г\n",
      "пастг|а\n",
      "астга| \n",
      "стга |қ\n",
      "тга қ|а\n",
      "га қа|р\n",
      "а қар|а\n"
     ]
    }
   ],
   "source": [
    "T = 5\n",
    "for i in range(100):\n",
    "  print(train_data[i:i+T], train_data[i+T], sep='|')"
   ]
  }
 ],
 "metadata": {
  "kernelspec": {
   "display_name": "dl_courses",
   "language": "python",
   "name": "python3"
  },
  "language_info": {
   "codemirror_mode": {
    "name": "ipython",
    "version": 3
   },
   "file_extension": ".py",
   "mimetype": "text/x-python",
   "name": "python",
   "nbconvert_exporter": "python",
   "pygments_lexer": "ipython3",
   "version": "3.10.14"
  }
 },
 "nbformat": 4,
 "nbformat_minor": 2
}
