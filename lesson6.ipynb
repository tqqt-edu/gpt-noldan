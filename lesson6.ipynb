{
 "cells": [
  {
   "cell_type": "code",
   "execution_count": 1,
   "metadata": {},
   "outputs": [],
   "source": [
    "import numpy as np\n",
    "\n",
    "import torch\n",
    "import torch.nn as nn\n",
    "import torch.nn.functional as F\n",
    "import torch.utils.data as data\n",
    "import torch.optim as optim"
   ]
  },
  {
   "cell_type": "code",
   "execution_count": 2,
   "metadata": {},
   "outputs": [
    {
     "data": {
      "text/plain": [
       "device(type='cuda')"
      ]
     },
     "execution_count": 2,
     "metadata": {},
     "output_type": "execute_result"
    }
   ],
   "source": [
    "device = torch.device('cuda' if torch.cuda.is_available() else 'cpu')\n",
    "device"
   ]
  },
  {
   "cell_type": "code",
   "execution_count": 3,
   "metadata": {},
   "outputs": [
    {
     "name": "stdout",
     "output_type": "stream",
     "text": [
      "Beliglar soni: 93\n"
     ]
    }
   ],
   "source": [
    "with open('shaytonat 1-3.txt', 'r') as f:\n",
    "  text = f.read()\n",
    "bag = list(set(text))\n",
    "n_bag = len(bag)\n",
    "print(f'Beliglar soni: {n_bag}')\n",
    "\n",
    "encode = lambda s: [bag.index(l) for l in s]\n",
    "decode = lambda ids: \"\".join([bag[id] for id in ids])"
   ]
  },
  {
   "cell_type": "code",
   "execution_count": 4,
   "metadata": {},
   "outputs": [
    {
     "name": "stdout",
     "output_type": "stream",
     "text": [
      "O'rgatuvchida:  1848219\n",
      "Sinovda:  205358\n"
     ]
    }
   ],
   "source": [
    "n_data = len(text)\n",
    "val_size = 0.1\n",
    "n_train = int((1 - val_size) * n_data)\n",
    "n_val = n_data - n_train\n",
    "\n",
    "train_data = torch.tensor(encode(text[:n_train]), dtype=torch.int32)\n",
    "val_data = torch.tensor(encode(text[n_train:]), dtype=torch.int32)\n",
    "print(\"O'rgatuvchida: \", n_train)\n",
    "print(\"Sinovda: \", n_val)"
   ]
  },
  {
   "cell_type": "code",
   "execution_count": 34,
   "metadata": {},
   "outputs": [],
   "source": [
    "batch_size = 32\n",
    "\n",
    "block_size = 256\n",
    "n_emb = 1024\n",
    "vocab_size = n_bag\n",
    "head_size = 256"
   ]
  },
  {
   "cell_type": "code",
   "execution_count": 35,
   "metadata": {},
   "outputs": [],
   "source": [
    "def get_batch(split='train'):\n",
    "    data = train_data if split == 'train' else val_data\n",
    "    xb = []\n",
    "    yb = []\n",
    "    for i in range(batch_size):\n",
    "        idx = np.random.randint(0, len(data) - block_size - 1)\n",
    "        xb.append(data[idx:idx+block_size])\n",
    "        yb.append(data[idx+1:idx+block_size+1])\n",
    "    \n",
    "    xb = torch.stack(xb)\n",
    "    yb = torch.stack(yb).to(torch.int64)\n",
    "\n",
    "    return xb, yb"
   ]
  },
  {
   "cell_type": "code",
   "execution_count": 39,
   "metadata": {},
   "outputs": [],
   "source": [
    "class BigramLM(nn.Module):\n",
    "\n",
    "    def __init__(self):\n",
    "        super().__init__()\n",
    "        self.token_embedding_table = nn.Embedding(vocab_size, \n",
    "                                                  n_emb)\n",
    "        self.postion_embedding_table = nn.Embedding(block_size, \n",
    "                                                  n_emb)\n",
    "        self.query = nn.Linear(n_emb, head_size) # (B, T, head_size)\n",
    "        self.key = nn.Linear(n_emb, head_size)   # (B, T, head_size)\n",
    "        self.value = nn.Linear(n_emb, head_size) # (B, T, head_size)\n",
    "        \n",
    "        self.fc = nn.Linear(head_size, vocab_size)\n",
    "\n",
    "        self.register_buffer('tril', torch.tril(torch.ones((block_size, block_size))))\n",
    "    \n",
    "    def forward(self, xb, yb=None):\n",
    "        B, T = xb.shape\n",
    "        # xb -> (batch_size, block_size) => (4, 8)\n",
    "        # yb -> (batch_size, block_size) => (4, 8)\n",
    "        # (batch_size, block_size, n_emb)\n",
    "        # (4, 8, 32)\n",
    "        token_emb = self.token_embedding_table(xb)\n",
    "        postion_emb = self.postion_embedding_table(torch.arange(0, T, device=device))\n",
    "\n",
    "        x = token_emb + postion_emb\n",
    "        q = self.query(x)\n",
    "        k = self.key(x)\n",
    "        v = self.value(x)\n",
    "\n",
    "\n",
    "        # (B, T, head_size) @ (B, head_size, T) -> (B, T, T)\n",
    "        wei = q @ k.transpose(-2, -1)\n",
    "        wei = wei / (head_size ** 0.5)\n",
    "\n",
    "        # wei = torch.zeros((T, T))\n",
    "        wei = wei.masked_fill(self.tril[:T, :T] == 0, float('-inf'))\n",
    "        wei = F.softmax(wei, dim=-1)\n",
    "\n",
    "        # (B, T, T) @ (B, T, head_size) -> (B, T, head_size)\n",
    "        out = wei @ v\n",
    "\n",
    "        # (4, 8, 93)\n",
    "        logits = self.fc(out)\n",
    "        \n",
    "        if yb is not None:\n",
    "            B, T, C = logits.shape\n",
    "            logits = logits.view(B*T, C)\n",
    "            yb = yb.view(B*T)\n",
    "            loss = F.cross_entropy(logits, yb)\n",
    "        else:\n",
    "            loss = None\n",
    "\n",
    "        return logits, loss\n",
    "    \n",
    "    def generate(self, idx, max_new_token):\n",
    "        for _ in range(max_new_token):\n",
    "            # (batch_size, block_size, vocab_size)\n",
    "            # (1, 8, 93)\n",
    "            idx = idx[:, -block_size:]\n",
    "            logits, loss = self(idx)\n",
    "            logits = logits[:, -1, :]\n",
    "            probs = F.softmax(logits, dim=-1)\n",
    "\n",
    "            idx_next = torch.multinomial(probs, num_samples=1)\n",
    "            \n",
    "            idx = torch.cat((idx, idx_next), dim=1)\n",
    "        return idx"
   ]
  },
  {
   "cell_type": "code",
   "execution_count": 40,
   "metadata": {},
   "outputs": [],
   "source": [
    "model = BigramLM()\n",
    "model.to(device)\n",
    "optimizer = optim.AdamW(model.parameters(), lr=1e-4)"
   ]
  },
  {
   "cell_type": "code",
   "execution_count": 67,
   "metadata": {},
   "outputs": [
    {
     "name": "stdout",
     "output_type": "stream",
     "text": [
      "Step 1: 2.1751\n",
      "Step 1001: 2.1840\n",
      "Step 2001: 2.2080\n",
      "Step 3001: 2.1774\n",
      "Step 4001: 2.1566\n",
      "Step 5001: 2.1620\n",
      "Step 6001: 2.1785\n",
      "Step 7001: 2.1933\n",
      "Step 8001: 2.1534\n",
      "Step 9001: 2.1887\n"
     ]
    }
   ],
   "source": [
    "n_steps = 10_000\n",
    "for step in range(n_steps):\n",
    "    xb, yb = get_batch('train')\n",
    "    xb = xb.to(device)\n",
    "    yb = yb.to(device)\n",
    "\n",
    "    logits, loss = model(xb, yb)\n",
    "    optimizer.zero_grad()\n",
    "    loss.backward()\n",
    "    optimizer.step()\n",
    "    \n",
    "    if step % 1000 == 0:\n",
    "        print(f\"Step {step+1}: {loss:.4f}\")"
   ]
  },
  {
   "cell_type": "code",
   "execution_count": 38,
   "metadata": {},
   "outputs": [
    {
     "data": {
      "text/plain": [
       "1168477"
      ]
     },
     "execution_count": 38,
     "metadata": {},
     "output_type": "execute_result"
    }
   ],
   "source": [
    "num_params = sum([param.numel() for param in model.parameters()])\n",
    "num_params"
   ]
  },
  {
   "cell_type": "code",
   "execution_count": 83,
   "metadata": {},
   "outputs": [
    {
     "name": "stdout",
     "output_type": "stream",
     "text": [
      "\n",
      "— Ур этишки бўрлган:\n",
      "— Бони шигадинан о«масан бўлай.\n",
      "Ҳока, иқолниган ғи сланг му. Эрч хониёдунлига тлиси шуқмади.\n",
      "— Йиқўтади, оқ асбатидингга «бўл-и, ифорни Сў, бери тина илби қичи юзганчи шаб\n",
      "форнгчарага э эслима.\n",
      "Хашуч ҳаронл шанилчи форун тисотга овар. \n"
     ]
    }
   ],
   "source": [
    "idx = torch.tensor([encode(\"— Уйда ким бор? — деб сўради паст бўйли киши.\")], \n",
    "                   dtype=torch.long, \n",
    "                   device=device)\n",
    "gen_idx = model.generate(idx, max_new_token=500)\n",
    "print(decode(gen_idx[0]))"
   ]
  },
  {
   "cell_type": "code",
   "execution_count": 18,
   "metadata": {},
   "outputs": [],
   "source": [
    "torch.manual_seed(42)\n",
    "\n",
    "B, T, C = 4, 8, 2\n",
    "x = torch.randn(B, T, C)\n",
    "\n",
    "tril = torch.tril(torch.ones((T, T)))\n",
    "wei = torch.zeros((T, T))\n",
    "wei = wei.masked_fill(tril == 0, float('-inf'))\n",
    "wei = F.softmax(wei, dim=1)"
   ]
  },
  {
   "cell_type": "markdown",
   "metadata": {},
   "source": [
    "# Scaled Dot-Product Attention"
   ]
  },
  {
   "cell_type": "code",
   "execution_count": 29,
   "metadata": {},
   "outputs": [],
   "source": [
    "torch.manual_seed(42)\n",
    "\n",
    "B, T, C = 4, 8, 2\n",
    "head_size = 16\n",
    "\n",
    "x = torch.randn(B, T, C)\n",
    "\n",
    "query = nn.Linear(C, head_size) # (B, T, head_size)\n",
    "key = nn.Linear(C, head_size)   # (B, T, head_size)\n",
    "value = nn.Linear(C, head_size) # (B, T, head_size)\n",
    "\n",
    "q = query(x)\n",
    "k = key(x)\n",
    "v = value(x)\n",
    "\n",
    "# (B, T, head_size) @ (B, head_size, T) -> (B, T, T)\n",
    "wei = q @ k.transpose(-2, -1)\n",
    "wei = wei / (head_size ** 0.5)\n",
    "\n",
    "tril = torch.tril(torch.ones((T, T)))\n",
    "# wei = torch.zeros((T, T))\n",
    "wei = wei.masked_fill(tril == 0, float('-inf'))\n",
    "wei = F.softmax(wei, dim=-1)\n",
    "\n",
    "# (B, T, T) @ (B, T, head_size) -> (B, T, head_size)\n",
    "out = wei @ v"
   ]
  },
  {
   "cell_type": "code",
   "execution_count": 78,
   "metadata": {},
   "outputs": [
    {
     "data": {
      "text/plain": [
       "tensor(1.2606)"
      ]
     },
     "execution_count": 78,
     "metadata": {},
     "output_type": "execute_result"
    }
   ],
   "source": [
    "a = torch.randn(size=(4, 4))\n",
    "b = torch.randn(size=(4, 4))\n",
    "\n",
    "c = a @ b / (4 ** 0.5)\n",
    "torch.var(c)"
   ]
  }
 ],
 "metadata": {
  "kernelspec": {
   "display_name": "ai-courses",
   "language": "python",
   "name": "python3"
  },
  "language_info": {
   "codemirror_mode": {
    "name": "ipython",
    "version": 3
   },
   "file_extension": ".py",
   "mimetype": "text/x-python",
   "name": "python",
   "nbconvert_exporter": "python",
   "pygments_lexer": "ipython3",
   "version": "3.10.14"
  }
 },
 "nbformat": 4,
 "nbformat_minor": 2
}
