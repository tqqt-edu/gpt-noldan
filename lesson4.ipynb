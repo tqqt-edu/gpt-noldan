{
 "cells": [
  {
   "cell_type": "code",
   "execution_count": 1,
   "metadata": {},
   "outputs": [],
   "source": [
    "import numpy as np\n",
    "\n",
    "import torch\n",
    "import torch.nn as nn\n",
    "import torch.nn.functional as F\n",
    "import torch.utils.data as data\n",
    "import torch.optim as optim"
   ]
  },
  {
   "cell_type": "code",
   "execution_count": 2,
   "metadata": {},
   "outputs": [
    {
     "data": {
      "text/plain": [
       "device(type='cuda')"
      ]
     },
     "execution_count": 2,
     "metadata": {},
     "output_type": "execute_result"
    }
   ],
   "source": [
    "device = torch.device('cuda' if torch.cuda.is_available() else 'cpu')\n",
    "device"
   ]
  },
  {
   "cell_type": "code",
   "execution_count": 4,
   "metadata": {},
   "outputs": [
    {
     "name": "stdout",
     "output_type": "stream",
     "text": [
      "Beliglar soni: 93\n"
     ]
    }
   ],
   "source": [
    "with open('shaytonat 1-3.txt', 'r') as f:\n",
    "  text = f.read()\n",
    "bag = list(set(text))\n",
    "n_bag = len(bag)\n",
    "print(f'Beliglar soni: {n_bag}')\n",
    "\n",
    "encode = lambda s: [bag.index(l) for l in s]\n",
    "decode = lambda ids: \"\".join([bag[id] for id in ids])"
   ]
  },
  {
   "cell_type": "code",
   "execution_count": 21,
   "metadata": {},
   "outputs": [
    {
     "name": "stdout",
     "output_type": "stream",
     "text": [
      "O'rgatuvchida:  1848219\n",
      "Sinovda:  205358\n"
     ]
    }
   ],
   "source": [
    "n_data = len(text)\n",
    "val_size = 0.1\n",
    "n_train = int((1 - val_size) * n_data)\n",
    "n_val = n_data - n_train\n",
    "\n",
    "train_data = torch.tensor(encode(text[:n_train]), dtype=torch.int32)\n",
    "val_data = torch.tensor(encode(text[n_train:]), dtype=torch.int32)\n",
    "print(\"O'rgatuvchida: \", n_train)\n",
    "print(\"Sinovda: \", n_val)"
   ]
  },
  {
   "cell_type": "code",
   "execution_count": 24,
   "metadata": {},
   "outputs": [],
   "source": [
    "block_size = 8\n",
    "batch_size = 4\n",
    "\n",
    "def get_batch(split='train'):\n",
    "    data = train_data if split == 'train' else val_data\n",
    "    xb = []\n",
    "    yb = []\n",
    "    for i in range(batch_size):\n",
    "        idx = np.random.randint(0, len(data) - block_size - 1)\n",
    "        xb.append(data[idx:idx+block_size])\n",
    "        yb.append(data[idx+1:idx+block_size+1])\n",
    "    \n",
    "    xb = torch.stack(xb)\n",
    "    yb = torch.stack(yb).to(torch.int64)\n",
    "\n",
    "    return xb, yb"
   ]
  },
  {
   "cell_type": "code",
   "execution_count": null,
   "metadata": {},
   "outputs": [],
   "source": [
    "xb, yb = get_batch()\n",
    "for b in range(batch_size):\n",
    "    for c in range(block_size):\n",
    "        print(\"Context:\", xb[b, :c+1], \"Target:\", yb[b, c].item())"
   ]
  },
  {
   "cell_type": "code",
   "execution_count": null,
   "metadata": {},
   "outputs": [],
   "source": [
    "class BigramLM(nn.Module):\n",
    "\n",
    "    def __init__(self,\n",
    "                 vocab_size):\n",
    "        super().__init__()\n",
    "        self.token_embedding_table = nn.Embedding(vocab_size, \n",
    "                                                  vocab_size)\n",
    "    \n",
    "    def forward(self, xb, yb=None):\n",
    "\n",
    "        # xb -> (batch_size, block_size) => (4, 8)\n",
    "        # yb -> (batch_size, block_size) => (4, 8)\n",
    "        # (batch_size, block_size, vocab_size)\n",
    "        # (4, 8, 93)\n",
    "        logits = self.token_embedding_table(xb)\n",
    "        \n",
    "        if yb is not None:\n",
    "            B, T, C = logits.shape\n",
    "            logits = logits.view(B*T, C)\n",
    "            yb = yb.view(B*T)\n",
    "            loss = F.cross_entropy(logits, yb)\n",
    "        else:\n",
    "            loss = None\n",
    "\n",
    "        return logits, loss\n",
    "    \n",
    "    def generate(self, idx, max_new_token):\n",
    "        for _ in range(max_new_token):\n",
    "            # (batch_size, block_size, vocab_size)\n",
    "            # (1, 8, 93)\n",
    "            logits, loss = self(idx)\n",
    "            logits = logits[:, -1, :]\n",
    "            probs = F.softmax(logits, dim=-1)\n",
    "\n",
    "            idx_next = torch.multinomial(probs, num_samples=1)\n",
    "            \n",
    "            idx = torch.cat((idx, idx_next), dim=1)\n",
    "        return idx"
   ]
  },
  {
   "cell_type": "code",
   "execution_count": 65,
   "metadata": {},
   "outputs": [],
   "source": [
    "model = BigramLM(n_bag)\n",
    "model.to(device)\n",
    "optimizer = optim.AdamW(model.parameters(), lr=1e-3)"
   ]
  },
  {
   "cell_type": "code",
   "execution_count": null,
   "metadata": {},
   "outputs": [],
   "source": [
    "n_steps = 1_000_000\n",
    "for step in range(n_steps):\n",
    "    xb, yb = get_batch('train')\n",
    "    xb = xb.to(device)\n",
    "    yb = yb.to(device)\n",
    "\n",
    "    logits, loss = model(xb, yb)\n",
    "    optimizer.zero_grad()\n",
    "    loss.backward()\n",
    "    optimizer.step()\n",
    "    \n",
    "    if step % 100 == 0:\n",
    "        print(f\"Step {step+1}: {loss:.4f}\")"
   ]
  },
  {
   "cell_type": "code",
   "execution_count": 103,
   "metadata": {},
   "outputs": [
    {
     "name": "stdout",
     "output_type": "stream",
     "text": [
      " чода киберг ўйиб. сачоа мамайванг» ҳулила, бонади.\n",
      "Ангамл йнг. Унлч изажоар Зоридами:\n",
      "— Кўта км Мезл\n"
     ]
    }
   ],
   "source": [
    "idx = torch.tensor([encode(' ')], dtype=torch.int64, device=device)\n",
    "gen_idx = model.generate(idx, max_new_token=100)\n",
    "print(decode(gen_idx[0]))"
   ]
  }
 ],
 "metadata": {
  "kernelspec": {
   "display_name": "ai-courses",
   "language": "python",
   "name": "python3"
  },
  "language_info": {
   "codemirror_mode": {
    "name": "ipython",
    "version": 3
   },
   "file_extension": ".py",
   "mimetype": "text/x-python",
   "name": "python",
   "nbconvert_exporter": "python",
   "pygments_lexer": "ipython3",
   "version": "3.10.14"
  }
 },
 "nbformat": 4,
 "nbformat_minor": 2
}
